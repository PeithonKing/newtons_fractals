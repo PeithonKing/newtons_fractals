{
 "cells": [
  {
   "cell_type": "code",
   "execution_count": 9,
   "metadata": {},
   "outputs": [],
   "source": [
    "from tqdm import tqdm\n",
    "import numpy as np\n",
    "import matplotlib.pyplot as plt"
   ]
  },
  {
   "cell_type": "code",
   "execution_count": 10,
   "metadata": {},
   "outputs": [],
   "source": [
    "def complex_multiply(z1, z2):\n",
    "    a1, b1 = z1\n",
    "    a2, b2 = z2\n",
    "    return a1*a2 - b1*b2, a1*b2 + b1*a2\n",
    "\n",
    "def pow(z, n):\n",
    "    if n == 0:\n",
    "        return 1, 0\n",
    "    if n == 1:\n",
    "        return z\n",
    "    if n % 2 == 0:\n",
    "        return pow(complex_multiply(z, z), n//2)\n",
    "    else:\n",
    "        return complex_multiply(z, pow(complex_multiply(z, z), n//2))"
   ]
  },
  {
   "cell_type": "markdown",
   "metadata": {},
   "source": [
    "# Inputs"
   ]
  },
  {
   "cell_type": "code",
   "execution_count": 11,
   "metadata": {},
   "outputs": [],
   "source": [
    "def P(a, b):  # z**2 - 1\n",
    "    # return a**2 -b**2 - 1, 2*a*b\n",
    "    a_, b_ = pow([a, b], 3)\n",
    "    return a_ - 1, b_\n",
    "\n",
    "def dP(a, b):  # 2z\n",
    "    a_, b_ = pow([a, b], 2)\n",
    "    return 3*a_, 3*b_"
   ]
  },
  {
   "cell_type": "markdown",
   "metadata": {},
   "source": [
    "# One Iteration"
   ]
  },
  {
   "cell_type": "code",
   "execution_count": 12,
   "metadata": {},
   "outputs": [],
   "source": [
    "def one_iteration(a, b, P: callable = P, dP: callable = dP):\n",
    "    Pa, Pb = P(a, b)\n",
    "    dPa, dPb = dP(a, b)\n",
    "    den = dPa**2 + dPb**2\n",
    "    a_ = a - Pa*dPa/den - Pb*dPb/den\n",
    "    b_ = b - Pb*dPa/den + Pa*dPb/den\n",
    "    return a_, b_"
   ]
  },
  {
   "cell_type": "markdown",
   "metadata": {},
   "source": [
    "# Calculations"
   ]
  },
  {
   "cell_type": "code",
   "execution_count": 13,
   "metadata": {},
   "outputs": [],
   "source": [
    "N = 1000\n",
    "xy_upper_lim = 1\n",
    "xy_lower_lim = -1\n",
    "a = np.tile(np.linspace(xy_lower_lim, xy_upper_lim, N).tolist(), (N, 1))\n",
    "b = np.tile(np.linspace(xy_lower_lim, xy_upper_lim, N).tolist(), (N, 1)).T"
   ]
  },
  {
   "cell_type": "code",
   "execution_count": 14,
   "metadata": {},
   "outputs": [
    {
     "name": "stderr",
     "output_type": "stream",
     "text": [
      "100%|██████████████████████████████████████████████████████████████████████████████████| 20/20 [00:06<00:00,  3.02it/s]\n"
     ]
    }
   ],
   "source": [
    "for i in tqdm(range(20)):\n",
    "    a, b = one_iteration(a, b)"
   ]
  },
  {
   "cell_type": "markdown",
   "metadata": {},
   "source": [
    "# Results"
   ]
  },
  {
   "cell_type": "code",
   "execution_count": 15,
   "metadata": {},
   "outputs": [],
   "source": [
    "def is_near(a, b, eps=1e-4):\n",
    "\treturn np.abs(a-b) < eps"
   ]
  },
  {
   "cell_type": "code",
   "execution_count": null,
   "metadata": {},
   "outputs": [
    {
     "name": "stderr",
     "output_type": "stream",
     "text": [
      " 81%|████████████████████████████████████████████████████████████████▎              | 814/1000 [27:55<02:26,  1.27it/s]"
     ]
    }
   ],
   "source": [
    "s = np.linspace(xy_lower_lim, xy_upper_lim, N)\n",
    "plt.figure(dpi = 500)\n",
    "markersize = 0.1\n",
    "for i in tqdm(range(N)):\n",
    "    for j in range(N):\n",
    "        if is_near(a[i, j], 1) and is_near(b[i, j], 0):\n",
    "            plt.plot(s[j], s[i], 'ro', markersize=markersize)\n",
    "        elif is_near(a[i, j], -0.5) and is_near(b[i, j], np.sqrt(3)/2):\n",
    "            plt.plot(s[j], s[i], 'go', markersize=markersize)\n",
    "        elif is_near(a[i, j], -0.5) and is_near(b[i, j], -np.sqrt(3)/2):\n",
    "            plt.plot(s[j], s[i], 'bo', markersize=markersize)\n",
    "        else:\n",
    "            plt.plot(s[j], s[i], 'ko', markersize=markersize)"
   ]
  }
 ],
 "metadata": {
  "kernelspec": {
   "display_name": "Python 3 (ipykernel)",
   "language": "python",
   "name": "python3"
  },
  "language_info": {
   "codemirror_mode": {
    "name": "ipython",
    "version": 3
   },
   "file_extension": ".py",
   "mimetype": "text/x-python",
   "name": "python",
   "nbconvert_exporter": "python",
   "pygments_lexer": "ipython3",
   "version": "3.9.13 (tags/v3.9.13:6de2ca5, May 17 2022, 16:36:42) [MSC v.1929 64 bit (AMD64)]"
  },
  "vscode": {
   "interpreter": {
    "hash": "95b59b4b0e72d3e94105c3ab4f1a1e6e746e4c2a7c235241251baf92fb36381f"
   }
  }
 },
 "nbformat": 4,
 "nbformat_minor": 2
}
